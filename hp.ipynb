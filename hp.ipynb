{
 "cells": [
  {
   "cell_type": "code",
   "execution_count": null,
   "metadata": {
    "collapsed": false
   },
   "outputs": [],
   "source": [
    "from py3k_fix import *"
   ]
  },
  {
   "cell_type": "code",
   "execution_count": null,
   "metadata": {
    "collapsed": false
   },
   "outputs": [],
   "source": [
    "%%javascript\n",
    "IPython.keyboard_manager.command_shortcuts.add_shortcut('Ctrl-k','ipython.move-selected-cell-up')\n",
    "IPython.keyboard_manager.command_shortcuts.add_shortcut('Ctrl-j','ipython.move-selected-cell-down')\n",
    "IPython.keyboard_manager.command_shortcuts.add_shortcut('Shift-m','ipython.merge-selected-cell-with-cell-after')"
   ]
  },
  {
   "cell_type": "code",
   "execution_count": null,
   "metadata": {
    "collapsed": true
   },
   "outputs": [],
   "source": [
    "from collections import namedtuple, Counter, defaultdict, OrderedDict\n",
    "from glob import glob\n",
    "import operator as op\n",
    "from os.path import join\n",
    "import re\n",
    "import toolz.curried as z\n",
    "\n",
    "p = print"
   ]
  },
  {
   "cell_type": "markdown",
   "metadata": {},
   "source": [
    "pat = re.compile(r'.+? HP (\\d+).+')\n",
    "for fn in glob('src/orig/*.rtf'):\n",
    "    print(fn)\n",
    "    [i] = pat.findall(fn)\n",
    "    rtfdst = join('src', 'rtf', 'hp{}.rtf'.format(i))\n",
    "    txtdst = join('src', 'txt', 'hp{}.txt'.format(i))\n",
    "    !cp \"$fn\" \"$rtfdst\"\n",
    "    !unoconv --format=txt --output=$txtdst $rtfdst"
   ]
  },
  {
   "cell_type": "markdown",
   "metadata": {},
   "source": [
    "    with open(\"src/txt/hp1.txt\",'rb') as f:\n",
    "        txt = f.read().decode(\"utf-8-sig\")\n",
    "    #     doc = Rtf15Reader.read(f)\n",
    "    t = txt[:60000]"
   ]
  },
  {
   "cell_type": "markdown",
   "metadata": {},
   "source": [
    "# Load and Clean Text"
   ]
  },
  {
   "cell_type": "code",
   "execution_count": null,
   "metadata": {
    "collapsed": true
   },
   "outputs": [],
   "source": [
    "Chapter = namedtuple('Chapter', 'num title text')\n",
    "\n",
    "\n",
    "class Book(object):\n",
    "    def __init__(self, title, chapters: {int: Chapter}):\n",
    "        self.chapters = chapters\n",
    "        self.title = title\n",
    "        self.txts = OrderedDict()\n",
    "        for n, chap in sorted(chapters.items()):\n",
    "            setattr(self, 't{}'.format(n), chap.text)\n",
    "            self.txts[n] = chap.text\n",
    "        txt = reduce(op.add, self.txts.values())\n",
    "        self.txt = clean_text(txt)\n",
    "        \n",
    "class BookSeries(object):\n",
    "    def __init__(self, n=7):\n",
    "        self.chapters = chapters\n",
    "        self.title = title\n",
    "        self.txts = OrderedDict()\n",
    "        for n, chap in sorted(chapters.items()):\n",
    "            setattr(self, 't{}'.format(n), chap.text)\n",
    "            self.txts[n] = chap.text\n",
    "        txt = reduce(op.add, self.txts.values())\n",
    "        self.txt = clean_text(txt)"
   ]
  },
  {
   "cell_type": "code",
   "execution_count": null,
   "metadata": {
    "collapsed": true
   },
   "outputs": [],
   "source": [
    "def parsebook(fn=\"src/txt/hp1.txt\", vb=False):\n",
    "    global txt\n",
    "    p = print if vb else (lambda *x, **y: None)\n",
    "    if isinstance(fn, int):\n",
    "        fn = \"src/txt/hp{}.txt\".format(fn)\n",
    "    p('Reading {}'.format(fn)) \n",
    "    with open(fn,'rb') as f:\n",
    "        txt = f.read().decode(\"utf-8-sig\")\n",
    "        \n",
    "    gd = bookpat.search(txt).groupdict()\n",
    "    \n",
    "    booktitle = gd['title']\n",
    "    body = gd['body']\n",
    "\n",
    "    chs = chapsep.split(body)[1:]\n",
    "    book = {int(chnum): Chapter(int(chnum), title, text) for chnum, title, text in z.partition(3, chs)}\n",
    "    return Book(booktitle, book)"
   ]
  },
  {
   "cell_type": "code",
   "execution_count": null,
   "metadata": {
    "collapsed": true
   },
   "outputs": [],
   "source": [
    "n = 7\n",
    "bks = {i: parsebook(i, vb=1) for i in range(1, n + 1)}"
   ]
  },
  {
   "cell_type": "code",
   "execution_count": null,
   "metadata": {
    "collapsed": true
   },
   "outputs": [],
   "source": [
    "bookpat.search(txt)"
   ]
  },
  {
   "cell_type": "code",
   "execution_count": null,
   "metadata": {
    "collapsed": false
   },
   "outputs": [],
   "source": [
    "txt[:2000]"
   ]
  },
  {
   "cell_type": "code",
   "execution_count": null,
   "metadata": {
    "collapsed": true
   },
   "outputs": [],
   "source": [
    "print(txt[:2000])"
   ]
  },
  {
   "cell_type": "code",
   "execution_count": null,
   "metadata": {
    "collapsed": true
   },
   "outputs": [],
   "source": [
    "bks"
   ]
  },
  {
   "cell_type": "code",
   "execution_count": null,
   "metadata": {
    "collapsed": false
   },
   "outputs": [],
   "source": [
    "bookpat = re.compile(r'''\\A(?P<title>.+)\n",
    "(?!(.+)+?)\n",
    "(?P<body>(Chapter 1)\\n+(.+\\n+)+)''')\n",
    "chappat = re.compile(r'''(Chapter (\\d+)\\n+((?:.+\\n+)+))+''')\n",
    "chapsep = re.compile(r'Chapter (\\d+)\\n(.+)\\n+')\n",
    "# m = bookpat.search(t)\n",
    "# gd = m.groupdict()\n",
    "# title = gd['title']\n",
    "# body = gd['body']\n",
    "# gd"
   ]
  },
  {
   "cell_type": "markdown",
   "metadata": {},
   "source": [
    "book = {int(chnum): Chapter(int(chnum), title, text) for chnum, title, text in z.partition(3, chs)}\n",
    "bk = Book(book)\n",
    "book"
   ]
  },
  {
   "cell_type": "code",
   "execution_count": null,
   "metadata": {
    "collapsed": false
   },
   "outputs": [],
   "source": [
    "\n",
    "\n",
    "\n",
    "def clean_text(t):\n",
    "    reps = {\n",
    "        '’': \"'\",\n",
    "        '‘': \"'\",\n",
    "        '“': '\"',\n",
    "        '”': '\"',\n",
    "        '\\xad': '',\n",
    "        '—': '-',\n",
    "       }\n",
    "    \n",
    "    def rep(s, frto):\n",
    "        fr, to = frto\n",
    "        return s.replace(fr, to)\n",
    "    t = reduce(rep, reps.items(), t)\n",
    "    return t\n",
    "\n",
    "bk = parsebook()"
   ]
  },
  {
   "cell_type": "code",
   "execution_count": null,
   "metadata": {
    "collapsed": false
   },
   "outputs": [],
   "source": [
    "print(bk.txt[:2000])"
   ]
  },
  {
   "cell_type": "code",
   "execution_count": null,
   "metadata": {
    "collapsed": false
   },
   "outputs": [],
   "source": [
    "Counter(filter(lambda x: not re.match(r'[\\dA-Za-z \\.\"\\'\\-\\(\\);:!\\?,\\n]', x), bk.txt))"
   ]
  },
  {
   "cell_type": "code",
   "execution_count": null,
   "metadata": {
    "collapsed": true
   },
   "outputs": [],
   "source": [
    "Complexity\n",
    "- avg word length (syllables?)\n",
    "- avg sentence length\n",
    "\n",
    "- Words: 129 | Syllables: 173 | Sentences: 7 | Characters: 568 | Adverbs: 4\n",
    "Characters/Word: 4.4 | Words/Sentence: 18.4"
   ]
  },
  {
   "cell_type": "markdown",
   "metadata": {},
   "source": [
    "# Text"
   ]
  },
  {
   "cell_type": "code",
   "execution_count": null,
   "metadata": {
    "collapsed": true
   },
   "outputs": [],
   "source": []
  },
  {
   "cell_type": "code",
   "execution_count": null,
   "metadata": {
    "collapsed": true
   },
   "outputs": [],
   "source": [
    "import spacy.parts_of_speech as ps\n",
    "import spacy.en\n",
    "\n",
    "nlp = spacy.en.English()"
   ]
  },
  {
   "cell_type": "code",
   "execution_count": null,
   "metadata": {
    "collapsed": false
   },
   "outputs": [],
   "source": [
    "tokens = nlp(bk.txt, tag=True, parse=False, entity=True)"
   ]
  },
  {
   "cell_type": "code",
   "execution_count": null,
   "metadata": {
    "collapsed": false
   },
   "outputs": [],
   "source": [
    "tok"
   ]
  },
  {
   "cell_type": "code",
   "execution_count": null,
   "metadata": {
    "collapsed": false
   },
   "outputs": [],
   "source": [
    "tok.ent_iob"
   ]
  },
  {
   "cell_type": "code",
   "execution_count": null,
   "metadata": {
    "collapsed": false
   },
   "outputs": [],
   "source": [
    "people = Series(ent.string.rstrip() for ent in tokens.ents if ent.label_ == 'PERSON')"
   ]
  },
  {
   "cell_type": "code",
   "execution_count": null,
   "metadata": {
    "collapsed": true
   },
   "outputs": [],
   "source": [
    "pn = people.value_counts(normalize=0)\n",
    "pn"
   ]
  },
  {
   "cell_type": "code",
   "execution_count": null,
   "metadata": {
    "collapsed": true
   },
   "outputs": [],
   "source": [
    "pn[40:-40]"
   ]
  },
  {
   "cell_type": "code",
   "execution_count": null,
   "metadata": {
    "collapsed": false
   },
   "outputs": [],
   "source": [
    "for ent in tokens.ents:\n",
    "    print(ent, ent.label_)"
   ]
  },
  {
   "cell_type": "code",
   "execution_count": null,
   "metadata": {
    "collapsed": false
   },
   "outputs": [],
   "source": [
    "for tok in tokens[:40]:\n",
    "    print(tok, ps.NAMES[tok.pos])\n",
    "    1"
   ]
  },
  {
   "cell_type": "markdown",
   "metadata": {},
   "source": [
    "#Find Characters"
   ]
  },
  {
   "cell_type": "code",
   "execution_count": null,
   "metadata": {
    "collapsed": true
   },
   "outputs": [],
   "source": [
    "wds = tokens"
   ]
  },
  {
   "cell_type": "code",
   "execution_count": null,
   "metadata": {
    "collapsed": true
   },
   "outputs": [],
   "source": [
    "caps = Series([tok.string.rstrip() for tok in tokens if tok.is_title and tok.pos == ps.NOUN])"
   ]
  },
  {
   "cell_type": "code",
   "execution_count": null,
   "metadata": {
    "collapsed": true
   },
   "outputs": [],
   "source": [
    "import pandas as pd\n",
    "from pandas import Series, DataFrame"
   ]
  },
  {
   "cell_type": "code",
   "execution_count": null,
   "metadata": {
    "collapsed": true
   },
   "outputs": [],
   "source": [
    "caps."
   ]
  },
  {
   "cell_type": "code",
   "execution_count": null,
   "metadata": {
    "collapsed": true
   },
   "outputs": [],
   "source": [
    "caps.value_counts(normalize=0)"
   ]
  },
  {
   "cell_type": "code",
   "execution_count": null,
   "metadata": {
    "collapsed": false
   },
   "outputs": [],
   "source": [
    "tok.is_title"
   ]
  },
  {
   "cell_type": "code",
   "execution_count": null,
   "metadata": {
    "collapsed": false
   },
   "outputs": [],
   "source": [
    "ps.PROPN"
   ]
  },
  {
   "cell_type": "code",
   "execution_count": null,
   "metadata": {
    "collapsed": false
   },
   "outputs": [],
   "source": [
    "for pos in dir(ps)[8:]:\n",
    "    print(pos)\n",
    "    if pos.isupper():\n",
    "        int(getattr(ps, pos))\n"
   ]
  },
  {
   "cell_type": "code",
   "execution_count": null,
   "metadata": {
    "collapsed": true
   },
   "outputs": [],
   "source": []
  },
  {
   "cell_type": "code",
   "execution_count": null,
   "metadata": {
    "collapsed": true
   },
   "outputs": [],
   "source": [
    "[getattr(ps, pos) for pos in dir(ps) if pos.isupper()]"
   ]
  },
  {
   "cell_type": "code",
   "execution_count": null,
   "metadata": {
    "collapsed": false
   },
   "outputs": [],
   "source": [
    "{getattr(ps, pos): pos for pos in dir(ps) if pos.isupper()}"
   ]
  },
  {
   "cell_type": "code",
   "execution_count": null,
   "metadata": {
    "collapsed": false
   },
   "outputs": [],
   "source": [
    "tok"
   ]
  },
  {
   "cell_type": "code",
   "execution_count": null,
   "metadata": {
    "collapsed": false
   },
   "outputs": [],
   "source": [
    "tok.pos"
   ]
  },
  {
   "cell_type": "code",
   "execution_count": null,
   "metadata": {
    "collapsed": false
   },
   "outputs": [],
   "source": [
    "tokens"
   ]
  },
  {
   "cell_type": "code",
   "execution_count": null,
   "metadata": {
    "collapsed": true
   },
   "outputs": [],
   "source": [
    "!open /Users/williambeard/miniconda3/envs/hp/lib/python3.5/site-packages/spacy/en/"
   ]
  }
 ],
 "metadata": {
  "kernelspec": {
   "display_name": "Python 3",
   "language": "python",
   "name": "python3"
  },
  "language_info": {
   "codemirror_mode": {
    "name": "ipython",
    "version": 3
   },
   "file_extension": ".py",
   "mimetype": "text/x-python",
   "name": "python",
   "nbconvert_exporter": "python",
   "pygments_lexer": "ipython3",
   "version": "3.5.1"
  }
 },
 "nbformat": 4,
 "nbformat_minor": 0
}
